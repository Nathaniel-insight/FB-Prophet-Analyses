{
 "cells": [
  {
   "cell_type": "code",
   "execution_count": 4,
   "metadata": {},
   "outputs": [],
   "source": [
    "from forecasting_followers import *\n",
    "from PullingDataFromSQL import *\n",
    "import datetime\n",
    "import numpy as np"
   ]
  },
  {
   "cell_type": "code",
   "execution_count": 2,
   "metadata": {},
   "outputs": [
    {
     "name": "stdout",
     "output_type": "stream",
     "text": [
      "173 Unique broadcasters out of 200 stream pulls\n"
     ]
    },
    {
     "name": "stderr",
     "output_type": "stream",
     "text": [
      "INFO:fbprophet.forecaster:n_changepoints greater than number of observations.Using 16.0.\n",
      "INFO:fbprophet.forecaster:n_changepoints greater than number of observations.Using 21.0.\n"
     ]
    }
   ],
   "source": [
    "user_df = analyze_all_broadcasters()"
   ]
  },
  {
   "cell_type": "code",
   "execution_count": 3,
   "metadata": {},
   "outputs": [
    {
     "data": {
      "text/html": [
       "<div>\n",
       "<style scoped>\n",
       "    .dataframe tbody tr th:only-of-type {\n",
       "        vertical-align: middle;\n",
       "    }\n",
       "\n",
       "    .dataframe tbody tr th {\n",
       "        vertical-align: top;\n",
       "    }\n",
       "\n",
       "    .dataframe thead th {\n",
       "        text-align: right;\n",
       "    }\n",
       "</style>\n",
       "<table border=\"1\" class=\"dataframe\">\n",
       "  <thead>\n",
       "    <tr style=\"text-align: right;\">\n",
       "      <th></th>\n",
       "      <th>actual_total</th>\n",
       "      <th>hours_streamed</th>\n",
       "      <th>pred_total</th>\n",
       "      <th>mase</th>\n",
       "      <th>MAE_pred</th>\n",
       "      <th>MAE_ave</th>\n",
       "      <th>total_followers</th>\n",
       "      <th>against_year</th>\n",
       "    </tr>\n",
       "  </thead>\n",
       "  <tbody>\n",
       "    <tr>\n",
       "      <th>41314239</th>\n",
       "      <td>8609</td>\n",
       "      <td>145</td>\n",
       "      <td>4063.829865</td>\n",
       "      <td>3.817492</td>\n",
       "      <td>902.789899</td>\n",
       "      <td>236.487671</td>\n",
       "      <td>110909</td>\n",
       "      <td>3.817492</td>\n",
       "    </tr>\n",
       "    <tr>\n",
       "      <th>137724090</th>\n",
       "      <td>1500</td>\n",
       "      <td>128</td>\n",
       "      <td>868.095320</td>\n",
       "      <td>0.743349</td>\n",
       "      <td>163.903416</td>\n",
       "      <td>220.493151</td>\n",
       "      <td>103212</td>\n",
       "      <td>0.743349</td>\n",
       "    </tr>\n",
       "    <tr>\n",
       "      <th>23397860</th>\n",
       "      <td>1997</td>\n",
       "      <td>134</td>\n",
       "      <td>1661.643406</td>\n",
       "      <td>0.505278</td>\n",
       "      <td>118.287648</td>\n",
       "      <td>234.104110</td>\n",
       "      <td>206681</td>\n",
       "      <td>0.505278</td>\n",
       "    </tr>\n",
       "    <tr>\n",
       "      <th>146813379</th>\n",
       "      <td>94</td>\n",
       "      <td>26</td>\n",
       "      <td>-153.823662</td>\n",
       "      <td>0.804190</td>\n",
       "      <td>35.403380</td>\n",
       "      <td>44.023669</td>\n",
       "      <td>4083</td>\n",
       "      <td>0.804190</td>\n",
       "    </tr>\n",
       "    <tr>\n",
       "      <th>39568921</th>\n",
       "      <td>415</td>\n",
       "      <td>65</td>\n",
       "      <td>144.401612</td>\n",
       "      <td>0.961526</td>\n",
       "      <td>49.598951</td>\n",
       "      <td>51.583562</td>\n",
       "      <td>24081</td>\n",
       "      <td>0.961526</td>\n",
       "    </tr>\n",
       "  </tbody>\n",
       "</table>\n",
       "</div>"
      ],
      "text/plain": [
       "           actual_total  hours_streamed   pred_total      mase    MAE_pred  \\\n",
       "41314239           8609             145  4063.829865  3.817492  902.789899   \n",
       "137724090          1500             128   868.095320  0.743349  163.903416   \n",
       "23397860           1997             134  1661.643406  0.505278  118.287648   \n",
       "146813379            94              26  -153.823662  0.804190   35.403380   \n",
       "39568921            415              65   144.401612  0.961526   49.598951   \n",
       "\n",
       "              MAE_ave  total_followers  against_year  \n",
       "41314239   236.487671           110909      3.817492  \n",
       "137724090  220.493151           103212      0.743349  \n",
       "23397860   234.104110           206681      0.505278  \n",
       "146813379   44.023669             4083      0.804190  \n",
       "39568921    51.583562            24081      0.961526  "
      ]
     },
     "execution_count": 3,
     "metadata": {},
     "output_type": "execute_result"
    }
   ],
   "source": [
    "user_df.head()"
   ]
  },
  {
   "cell_type": "code",
   "execution_count": 6,
   "metadata": {},
   "outputs": [
    {
     "name": "stdout",
     "output_type": "stream",
     "text": [
      "[ 0.81132075  4.8         3.25        2.75      ]\n"
     ]
    },
    {
     "data": {
      "image/png": "[encoded data removed]",
      "text/plain": [
       "<matplotlib.figure.Figure at 0x7f1cea2303c8>"
      ]
     },
     "metadata": {},
     "output_type": "display_data"
    }
   ],
   "source": [
    "good = user_df[user_df['against_year'] <=1]\n",
    "bad = user_df[user_df['against_year'] >1] \n",
    "\n",
    "good['total_followers'].hist(range = [0,40000], bins = 4)\n",
    "bad['total_followers'].hist(range = [0,40000], bins = 4)\n",
    "\n",
    "good_hist, div = np.histogram(good['total_followers'], range = [0,40000], bins = 4)\n",
    "bad_hist, div = np.histogram(bad['total_followers'], range = [0,40000], bins = 4)\n",
    "\n",
    "good_to_bad = good_hist/bad_hist\n",
    "\n",
    "print(good_to_bad)"
   ]
  },
  {
   "cell_type": "code",
   "execution_count": null,
   "metadata": {},
   "outputs": [],
   "source": []
  }
 ],
 "metadata": {
  "kernelspec": {
   "display_name": "Python 3",
   "language": "python",
   "name": "python3"
  },
  "language_info": {
   "codemirror_mode": {
    "name": "ipython",
    "version": 3
   },
   "file_extension": ".py",
   "mimetype": "text/x-python",
   "name": "python",
   "nbconvert_exporter": "python",
   "pygments_lexer": "ipython3",
   "version": "3.6.4"
  }
 },
 "nbformat": 4,
 "nbformat_minor": 2
}
